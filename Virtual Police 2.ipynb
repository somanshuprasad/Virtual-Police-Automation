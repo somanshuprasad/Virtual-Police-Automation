{
 "cells": [
  {
   "cell_type": "code",
   "execution_count": 4,
   "metadata": {},
   "outputs": [],
   "source": [
    "import pyautogui\n",
    "from time import sleep\n",
    "import time\n",
    "# https://armorgames.com/play/1307/virtual-police-2"
   ]
  },
  {
   "cell_type": "code",
   "execution_count": 74,
   "metadata": {},
   "outputs": [],
   "source": [
    "def LocateEnemy(images,conf):\n",
    "    for img in images:\n",
    "        r = pyautogui.locateCenterOnScreen(img,grayscale=True, confidence=conf,region=(500,50,1400,950))\n",
    "        if r != None:\n",
    "            return r\n",
    "    return None\n",
    "\n",
    "def aim(x,y):\n",
    "    pyautogui.moveTo(loc[0],loc[1])\n",
    "    \n",
    "def shoot():\n",
    "    pyautogui.click()\n",
    "    pyautogui.press(\"space\")"
   ]
  },
  {
   "cell_type": "code",
   "execution_count": 81,
   "metadata": {},
   "outputs": [
    {
     "name": "stdout",
     "output_type": "stream",
     "text": [
      "enemy found at 645X507\n",
      "enemy found at 1684X481\n",
      "enemy found at 778X442\n",
      "enemy found at 1093X515\n",
      "enemy found at 1568X483\n",
      "enemy found at 1194X568\n",
      "enemy found at 1181X417\n",
      "enemy found at 1201X401\n",
      "enemy found at 763X403\n",
      "enemy found at 1251X403\n",
      "enemy found at 754X424\n",
      "enemy found at 1368X366\n",
      "enemy found at 759X408\n",
      "enemy found at 733X356\n",
      "enemy found at 1177X530\n",
      "enemy found at 1072X435\n",
      "enemy found at 737X425\n",
      "enemy found at 1394X399\n"
     ]
    }
   ],
   "source": [
    "sleep(3)\n",
    "conf = .9\n",
    "images = [\"enemy\" + str(i) +\".PNG\" for i in range(1,16)]\n",
    "while True:\n",
    "#     sleep(1)\n",
    "    if pyautogui.position()[0] > 2000:\n",
    "        break\n",
    "    loc = LocateEnemy(images,conf)\n",
    "        \n",
    "    if loc != None:\n",
    "        print(\"enemy found at \" + str(loc[0]) + \" X \" + str(loc[1]))\n",
    "        aim(loc[0],loc[1])\n",
    "        shoot()\n",
    "\n",
    "    \n"
   ]
  }
 ],
 "metadata": {
  "kernelspec": {
   "display_name": "Python 3",
   "language": "python",
   "name": "python3"
  },
  "language_info": {
   "codemirror_mode": {
    "name": "ipython",
    "version": 3
   },
   "file_extension": ".py",
   "mimetype": "text/x-python",
   "name": "python",
   "nbconvert_exporter": "python",
   "pygments_lexer": "ipython3",
   "version": "3.7.1"
  }
 },
 "nbformat": 4,
 "nbformat_minor": 2
}
